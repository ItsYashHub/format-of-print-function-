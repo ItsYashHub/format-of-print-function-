{
 "cells": [
  {
   "cell_type": "code",
   "execution_count": 1,
   "id": "f3206c2c",
   "metadata": {},
   "outputs": [],
   "source": [
    "#Various Formats of Print Function"
   ]
  },
  {
   "cell_type": "code",
   "execution_count": 2,
   "id": "0c3af378",
   "metadata": {},
   "outputs": [
    {
     "name": "stdout",
     "output_type": "stream",
     "text": [
      "Aditya 22\n"
     ]
    }
   ],
   "source": [
    "# 1. Normal Type\n",
    "Name = \"Aditya\"\n",
    "age = 22\n",
    "print(Name,age)"
   ]
  },
  {
   "cell_type": "code",
   "execution_count": 5,
   "id": "f9dbc723",
   "metadata": {},
   "outputs": [
    {
     "name": "stdout",
     "output_type": "stream",
     "text": [
      "Hello, Aditya. You are 22 years old\n"
     ]
    }
   ],
   "source": [
    "# 2. Old Style String Formation (%)\n",
    "#This is similar to the printf style of formatting in C.\n",
    "\n",
    "Name = \"Aditya\"\n",
    "age = 22\n",
    "print(\"Hello, %s. You are %d years old\" % (Name, age))\n"
   ]
  },
  {
   "cell_type": "code",
   "execution_count": 8,
   "id": "f2e70de0",
   "metadata": {},
   "outputs": [
    {
     "name": "stdout",
     "output_type": "stream",
     "text": [
      "Hello, Aditya. You are 22 years old \n"
     ]
    }
   ],
   "source": [
    "# 3. Str. Format Method\n",
    "#this method uses curly braces {} as placeholders within the string.\n",
    "\n",
    "Name = \"Aditya\"\n",
    "age = 22\n",
    "print(\"Hello, {}. You are {} years old \".format(Name, age))"
   ]
  },
  {
   "cell_type": "code",
   "execution_count": 11,
   "id": "89524882",
   "metadata": {},
   "outputs": [
    {
     "name": "stdout",
     "output_type": "stream",
     "text": [
      "Hello, Aditya. You are 22 year old\n"
     ]
    }
   ],
   "source": [
    "# 4. Formatted String Literals (f-strings)\n",
    "# f-strings are prefixed with an f and allow you to embed \n",
    "# expressions inside string literals using curly braces {}.\n",
    "\n",
    "Name  = \"Aditya\"\n",
    "age = 22\n",
    "print(f\"Hello, {Name}. You are {age} year old\")"
   ]
  },
  {
   "cell_type": "code",
   "execution_count": 15,
   "id": "52ce849a",
   "metadata": {},
   "outputs": [
    {
     "name": "stdout",
     "output_type": "stream",
     "text": [
      "Hello, Aditya. You are 22 years old\n"
     ]
    }
   ],
   "source": [
    "# 5. Template Strings\n",
    "# The string module's Template class provides a way to substitute values into strings.\n",
    "\n",
    "from string import Template\n",
    "template = Template(\"Hello, $name. You are $age years old\")\n",
    "print(template.substitute(name = \"Aditya\", age = 22))"
   ]
  },
  {
   "cell_type": "code",
   "execution_count": 16,
   "id": "2fba9668",
   "metadata": {},
   "outputs": [
    {
     "name": "stdout",
     "output_type": "stream",
     "text": [
      "Hello, Aditya. You are 22 years old.\n"
     ]
    }
   ],
   "source": [
    "# 6. Concatenation\n",
    "#Using the + operator to concatenate strings.\n",
    "name = \"Aditya\"\n",
    "age = 22\n",
    "print(\"Hello, \" + name + \". You are \" + str(age) + \" years old.\")\n"
   ]
  },
  {
   "cell_type": "code",
   "execution_count": 23,
   "id": "2cf81c28",
   "metadata": {},
   "outputs": [
    {
     "name": "stdout",
     "output_type": "stream",
     "text": [
      "Hello Aditya. You are 22 years old.\n"
     ]
    }
   ],
   "source": [
    "# 7. Join Method\n",
    "# Using the join method to concatenate strings.\n",
    "\n",
    "name = \"Aditya\"\n",
    "age = 22\n",
    "print(\"\".join([\"Hello \", name,\". You are \", str(age),\" years old.\"]))"
   ]
  },
  {
   "cell_type": "code",
   "execution_count": 25,
   "id": "2b588177",
   "metadata": {},
   "outputs": [
    {
     "name": "stdout",
     "output_type": "stream",
     "text": [
      "\n",
      "Hello, Aditya,\n",
      "You are 22 years old.\n",
      "\n"
     ]
    }
   ],
   "source": [
    "# 8. Multiline Strings\n",
    "# Using triple quotes for multiline strings, which is useful for long text.\n",
    "\n",
    "name = \"Aditya\"\n",
    "age = 22\n",
    "\n",
    "message = f\"\"\"\n",
    "Hello, {name},\n",
    "You are {age} years old.\n",
    "\"\"\"\n",
    "print(message)"
   ]
  },
  {
   "cell_type": "code",
   "execution_count": 28,
   "id": "0a0d72a3",
   "metadata": {},
   "outputs": [
    {
     "name": "stdout",
     "output_type": "stream",
     "text": [
      "The value of x is 10.5\n"
     ]
    }
   ],
   "source": [
    "# 9. Using repr for Debugging\n",
    "# The repr function returns a string that would yield \n",
    "#the object with the same value when passed to eval.\n",
    "\n",
    "x  = 10.5\n",
    "print(f\"The value of x is {repr(x)}\")\n"
   ]
  },
  {
   "cell_type": "code",
   "execution_count": 29,
   "id": "dabf0690",
   "metadata": {},
   "outputs": [
    {
     "name": "stdout",
     "output_type": "stream",
     "text": [
      "Formatted number: 123.46\n",
      "Right aligned:    123.456\n",
      "Left aligned: 123.456   \n"
     ]
    }
   ],
   "source": [
    "#10. Advanced Formatting with format\n",
    "# specify formatting details such as width, precision, and alignment.\n",
    "value = 123.456\n",
    "\n",
    "print(\"Formatted number: {:.2f}\".format(value))  # 2 decimal places\n",
    "print(\"Right aligned: {:>10}\".format(value))    # Right-aligned with width 10\n",
    "print(\"Left aligned: {:<10}\".format(value))     # Left-aligned with width 10\n"
   ]
  }
 ],
 "metadata": {
  "kernelspec": {
   "display_name": "Python 3 (ipykernel)",
   "language": "python",
   "name": "python3"
  },
  "language_info": {
   "codemirror_mode": {
    "name": "ipython",
    "version": 3
   },
   "file_extension": ".py",
   "mimetype": "text/x-python",
   "name": "python",
   "nbconvert_exporter": "python",
   "pygments_lexer": "ipython3",
   "version": "3.9.13"
  }
 },
 "nbformat": 4,
 "nbformat_minor": 5
}

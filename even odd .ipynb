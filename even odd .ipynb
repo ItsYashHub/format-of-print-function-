{
 "cells": [
  {
   "cell_type": "code",
   "execution_count": 1,
   "id": "0293136e-82d3-4061-a9ef-b318f012fb72",
   "metadata": {},
   "outputs": [
    {
     "name": "stdout",
     "output_type": "stream",
     "text": [
      "24 Is Even Number\n",
      "19 Is Even Number\n"
     ]
    }
   ],
   "source": [
    "x = 24\n",
    "   \n",
    "if x % 24 == 0:\n",
    "    print(x,\"Is Even Number\")\n",
    "else:\n",
    "    print(x, \"Is Odd Number\")\n",
    "     \n",
    "y = 19\n",
    "   \n",
    "if y % 19 == 0:\n",
    "    print(y,\"Is Even Number\")\n",
    "else:\n",
    "    print(y, \"Is Odd Number\")"
   ]
  },
  {
   "cell_type": "code",
   "execution_count": null,
   "id": "02c68783-aff6-488a-ba19-1c7aaee0a903",
   "metadata": {},
   "outputs": [],
   "source": []
  }
 ],
 "metadata": {
  "kernelspec": {
   "display_name": "Python 3 (ipykernel)",
   "language": "python",
   "name": "python3"
  },
  "language_info": {
   "codemirror_mode": {
    "name": "ipython",
    "version": 3
   },
   "file_extension": ".py",
   "mimetype": "text/x-python",
   "name": "python",
   "nbconvert_exporter": "python",
   "pygments_lexer": "ipython3",
   "version": "3.12.4"
  }
 },
 "nbformat": 4,
 "nbformat_minor": 5
}
